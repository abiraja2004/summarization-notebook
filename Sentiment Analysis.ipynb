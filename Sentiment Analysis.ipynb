{
 "cells": [
  {
   "cell_type": "markdown",
   "metadata": {},
   "source": [
    "# Google Api Test"
   ]
  },
  {
   "cell_type": "code",
   "execution_count": 1,
   "metadata": {
    "collapsed": false
   },
   "outputs": [],
   "source": [
    "import lib.google_nlp as gnlp\n",
    "from lib.tokenize_to_sentences import tokenize_to_sentences, trim_new_line\n",
    "from lib.aylien_nlp import summarize\n",
    "import matplotlib.pyplot as plt\n",
    "import pickle\n",
    "import numpy as np"
   ]
  },
  {
   "cell_type": "code",
   "execution_count": 2,
   "metadata": {
    "collapsed": true
   },
   "outputs": [
    {
     "name": "stdout",
     "output_type": "stream",
     "text": [
      "I really wanted to love 'Bladerunner' but ultimately I couldn't get myself to appreciate it fully.\n",
      "However, you may like it if you're into science fiction, especially if you're interested in the philosophical exploration of what it means to be human or machine.\n",
      "Some of the gizmos like the flying cars and the Vouight-Kampff machine (which seemed very steampunk), were quite cool.\n",
      "I did find the plot pretty slow and but the dialogue and action sequences were good.\n",
      "Unlike most science fiction films, this one was mostly quiet, and not all that much happened, except during the last 15 minutes.\n",
      "I didn't understand why a unicorn was in the movie.\n",
      "The visual effects were fantastic, however, and the musical score and overall mood was quite interesting.\n",
      "A futurist Los Angeles that was both highly polished and also falling apart reminded me of 'Outland.'\n",
      "Certainly, the style of the film made up for many of its pedantic plot holes.\n",
      "If you want your sci-fi to be lasers and spaceships, 'Bladerunner' may disappoint you.\n",
      "But if you want it to make you think, this movie may be worth the money.\n"
     ]
    }
   ],
   "source": [
    "ANALYSIS_TITLE = ''\n",
    "\n",
    "ANALYSIS_TEXT = '''I really wanted to love 'Bladerunner' but ultimately I couldn't get\n",
    "myself to appreciate it fully. However, you may like it if you're into\n",
    "science fiction, especially if you're interested in the philosophical\n",
    "exploration of what it means to be human or machine. Some of the gizmos\n",
    "like the flying cars and the Vouight-Kampff machine (which seemed very\n",
    "steampunk), were quite cool.\n",
    "\n",
    "I did find the plot pretty slow and but the dialogue and action sequences\n",
    "were good. Unlike most science fiction films, this one was mostly quiet, and\n",
    "not all that much happened, except during the last 15 minutes. I didn't\n",
    "understand why a unicorn was in the movie. The visual effects were fantastic,\n",
    "however, and the musical score and overall mood was quite interesting.\n",
    "A futurist Los Angeles that was both highly polished and also falling apart\n",
    "reminded me of 'Outland.' Certainly, the style of the film made up for\n",
    "many of its pedantic plot holes.\n",
    "\n",
    "If you want your sci-fi to be lasers and spaceships, 'Bladerunner' may\n",
    "disappoint you. But if you want it to make you think, this movie may\n",
    "be worth the money.'''\n",
    "\n",
    "sentences = tokenize_to_sentences(ANALYSIS_TEXT)\n",
    "print('\\n'.join(sentences))"
   ]
  },
  {
   "cell_type": "code",
   "execution_count": 3,
   "metadata": {
    "collapsed": true
   },
   "outputs": [],
   "source": [
    "# helper functions\n",
    "\n",
    "def print_sentiment(text, polarity, magnitude):\n",
    "    print('Text: %s' % text)\n",
    "    print('Sentiment: polarity of %s with magnitude of %s' % (polarity, magnitude))\n",
    "    \n",
    "def load_dump(path):\n",
    "    return pickle.load(open(path, 'rb'))"
   ]
  },
  {
   "cell_type": "markdown",
   "metadata": {},
   "source": [
    "#### Analyze and print sentiment for the document:"
   ]
  },
  {
   "cell_type": "code",
   "execution_count": 4,
   "metadata": {
    "collapsed": false
   },
   "outputs": [
    {
     "name": "stdout",
     "output_type": "stream",
     "text": [
      "Document Sentiment: polarity of -0.1 with magnitude of 6.7\n",
      "\n"
     ]
    }
   ],
   "source": [
    "# Run a sentiment analysis request on text in ANALYSIS_TEXT variable\n",
    "polarity, magnitude = gnlp.google_sentiment_analysis(ANALYSIS_TEXT)\n",
    "print('Document Sentiment: polarity of %s with magnitude of %s' % (polarity, magnitude))\n",
    "print()"
   ]
  },
  {
   "cell_type": "markdown",
   "metadata": {},
   "source": [
    "#### Analyze sentiment for each sentence and store a dump:"
   ]
  },
  {
   "cell_type": "code",
   "execution_count": 5,
   "metadata": {
    "collapsed": false
   },
   "outputs": [
    {
     "name": "stdout",
     "output_type": "stream",
     "text": [
      "Stored 11 results\n"
     ]
    }
   ],
   "source": [
    "# analyze using Google API\n",
    "sentiments = [gnlp.google_sentiment_analysis(sentence) for sentence in sentences]\n",
    "results = list(zip(sentences, sentiments))\n",
    "\n",
    "# store to tmp file\n",
    "pickle.dump(results, open('tmp/google-sentiment-results', 'wb'))\n",
    "\n",
    "# print success\n",
    "print('Stored %d results' % len(list(results)))"
   ]
  },
  {
   "cell_type": "markdown",
   "metadata": {},
   "source": [
    "#### Analyze syntax for each sentence and store a dump:"
   ]
  },
  {
   "cell_type": "code",
   "execution_count": 6,
   "metadata": {
    "collapsed": false
   },
   "outputs": [
    {
     "name": "stdout",
     "output_type": "stream",
     "text": [
      "Stored 11 results\n"
     ]
    }
   ],
   "source": [
    "# analyse using Google API\n",
    "syntax = [gnlp.google_syntax_analysis(sentence) for sentence in sentences]\n",
    "syntax_results = list(zip(sentences, syntax))\n",
    "\n",
    "# store to tmp file\n",
    "pickle.dump(syntax_results, open('tmp/google-syntax-results', 'wb'))\n",
    "\n",
    "# print success\n",
    "print('Stored %d results' % len(syntax_results))\n"
   ]
  },
  {
   "cell_type": "markdown",
   "metadata": {},
   "source": [
    "#### Print sentiment for each sentence:"
   ]
  },
  {
   "cell_type": "code",
   "execution_count": 7,
   "metadata": {
    "collapsed": false
   },
   "outputs": [
    {
     "name": "stdout",
     "output_type": "stream",
     "text": [
      "Have found 11 results\n",
      "\n",
      "\n",
      "Text: I really wanted to love 'Bladerunner' but ultimately I couldn't get myself to appreciate it fully.\n",
      "Sentiment: polarity of -1 with magnitude of 0.8\n",
      "\n",
      "\n",
      "\n",
      "Text: However, you may like it if you're into science fiction, especially if you're interested in the philosophical exploration of what it means to be human or machine.\n",
      "Sentiment: polarity of -1 with magnitude of 0.4\n",
      "\n",
      "\n",
      "\n",
      "Text: Some of the gizmos like the flying cars and the Vouight-Kampff machine (which seemed very steampunk), were quite cool.\n",
      "Sentiment: polarity of 1 with magnitude of 0.8\n",
      "\n",
      "\n",
      "\n",
      "Text: I did find the plot pretty slow and but the dialogue and action sequences were good.\n",
      "Sentiment: polarity of 1 with magnitude of 0.1\n",
      "\n",
      "\n",
      "\n",
      "Text: Unlike most science fiction films, this one was mostly quiet, and not all that much happened, except during the last 15 minutes.\n",
      "Sentiment: polarity of -1 with magnitude of 0.8\n",
      "\n",
      "\n",
      "\n",
      "Text: I didn't understand why a unicorn was in the movie.\n",
      "Sentiment: polarity of -1 with magnitude of 0.8\n",
      "\n",
      "\n",
      "\n",
      "Text: The visual effects were fantastic, however, and the musical score and overall mood was quite interesting.\n",
      "Sentiment: polarity of 1 with magnitude of 0.8\n",
      "\n",
      "\n",
      "\n",
      "Text: A futurist Los Angeles that was both highly polished and also falling apart reminded me of 'Outland.'\n",
      "Sentiment: polarity of 1 with magnitude of 0.4\n",
      "\n",
      "\n",
      "\n",
      "Text: Certainly, the style of the film made up for many of its pedantic plot holes.\n",
      "Sentiment: polarity of -1 with magnitude of 0.9\n",
      "\n",
      "\n",
      "\n",
      "Text: If you want your sci-fi to be lasers and spaceships, 'Bladerunner' may disappoint you.\n",
      "Sentiment: polarity of 1 with magnitude of 0.4\n",
      "\n",
      "\n",
      "\n",
      "Text: But if you want it to make you think, this movie may be worth the money.\n",
      "Sentiment: polarity of -1 with magnitude of 0\n",
      "\n",
      "\n",
      "\n"
     ]
    }
   ],
   "source": [
    "results = load_dump('tmp/google-sentiment-results')\n",
    "print('Have found %d results\\n\\n' % len(list(results)))\n",
    "\n",
    "for r in results:\n",
    "    text, (polarity, magnitude) = r\n",
    "    print_sentiment(text, polarity, magnitude)\n",
    "    print('\\n\\n')"
   ]
  },
  {
   "cell_type": "markdown",
   "metadata": {},
   "source": [
    "#### Build histogram for sentiment distribution:"
   ]
  },
  {
   "cell_type": "code",
   "execution_count": 8,
   "metadata": {
    "collapsed": true
   },
   "outputs": [],
   "source": [
    "results = load_dump('tmp/google-sentiment-results')\n",
    "distribution = [ r[1][0] * r[1][1] for r in results ]"
   ]
  },
  {
   "cell_type": "code",
   "execution_count": 9,
   "metadata": {
    "collapsed": false
   },
   "outputs": [
    {
     "data": {
      "image/png": "[encoded data removed]",
      "text/plain": [
       "<matplotlib.figure.Figure at 0x10fdabcc0>"
      ]
     },
     "metadata": {},
     "output_type": "display_data"
    }
   ],
   "source": [
    "# histogram showing magnitudes\n",
    "plt.hist(distribution, 20, facecolor='g')\n",
    "plt.xlabel('magnitude')\n",
    "plt.xticks(np.arange(-1, 1, 0.1))\n",
    "plt.ylabel('count')\n",
    "plt.ylim(0, len(results))\n",
    "plt.show()"
   ]
  },
  {
   "cell_type": "code",
   "execution_count": 10,
   "metadata": {
    "collapsed": false
   },
   "outputs": [
    {
     "data": {
      "image/png": "[encoded data removed]",
      "text/plain": [
       "<matplotlib.figure.Figure at 0x10fdab550>"
      ]
     },
     "metadata": {},
     "output_type": "display_data"
    }
   ],
   "source": [
    "# histogram showing polarity, magnitude in chronological order\n",
    "plt.plot(distribution)\n",
    "plt.xticks(np.arange(0, len(distribution), 1.0))\n",
    "plt.grid()\n",
    "plt.show()"
   ]
  },
  {
   "cell_type": "markdown",
   "metadata": {},
   "source": [
    "# Summary Building\n",
    "\n",
    "First we preprocess our text data by building rankings of sentences by sentiment and finding an adequate summary sentence. Then we apply rules for how we put the article together. See these documents:\n",
    "\n",
    "- https://docs.google.com/spreadsheets/d/1Q3RqbrvmC2LTuds31R6HSkHc2CpuxZgPJbR5vVsMHlM/edit#gid=0\n",
    "- https://docs.google.com/document/d/1xWHVi3AaCSE2GduW194sUCYU6peStF4vTctzCZcNYkU/edit\n",
    "\n",
    "#### Ranking of Sentences\n",
    "\n",
    "We build a ranking of each sentence by chronological order vs. mag*pol score"
   ]
  },
  {
   "cell_type": "code",
   "execution_count": 11,
   "metadata": {
    "collapsed": true
   },
   "outputs": [],
   "source": [
    "sentence_score_tuples = list(zip(range(len(distribution)), distribution))\n",
    "positives = [t for t in sentence_score_tuples if t[1] >= 0.5]\n",
    "negatives = [t for t in sentence_score_tuples if t[1] <= -0.5]\n",
    "\n",
    "# get key to sort by absolute score == magnitude\n",
    "def getKey(item):\n",
    "    return item[1]\n",
    "\n",
    "positives_sorted = sorted(positives, key=getKey)\n",
    "negatives_sorted = sorted(negatives, key=getKey)"
   ]
  },
  {
   "cell_type": "markdown",
   "metadata": {},
   "source": [
    "#### Extracting one summary sentence via aylien api"
   ]
  },
  {
   "cell_type": "code",
   "execution_count": 12,
   "metadata": {
    "collapsed": false
   },
   "outputs": [],
   "source": [
    "# configure summarization api\n",
    "options = {\n",
    "    'mode': 'short',\n",
    "    'title': ANALYSIS_TITLE,\n",
    "    'text': trim_new_line(ANALYSIS_TEXT),\n",
    "    'sentences_number': 1\n",
    "}\n",
    "\n",
    "# make api call and cache result\n",
    "summary_results = summarize(options)\n",
    "pickle.dump(summary_results, open('tmp/aylien-summary', 'wb'))"
   ]
  },
  {
   "cell_type": "code",
   "execution_count": 13,
   "metadata": {
    "collapsed": true
   },
   "outputs": [],
   "source": [
    "summary_results = load_dump('tmp/aylien-summary')\n",
    "summary_sentences = summary_results['sentences']"
   ]
  },
  {
   "cell_type": "markdown",
   "metadata": {},
   "source": [
    "#### Filter Summary sentences from ranked positives and negatives"
   ]
  },
  {
   "cell_type": "code",
   "execution_count": 14,
   "metadata": {
    "collapsed": false
   },
   "outputs": [
    {
     "name": "stdout",
     "output_type": "stream",
     "text": [
      "[(8, -0.9), (4, -0.8), (5, -0.8)] 3 4\n",
      "[(2, 0.8), (6, 0.8)] 2 2\n"
     ]
    }
   ],
   "source": [
    "positives_filtered = [p for p in positives_sorted if results[p[0]][0] not in summary_sentences]\n",
    "negatives_filtered = [p for p in negatives_sorted if results[p[0]][0] not in summary_sentences]\n",
    "\n",
    "# print filtered & unfiltered counts, so we see where a sentences was deleted\n",
    "print(negatives_filtered, len(negatives_filtered), len(negatives_sorted))\n",
    "print(positives_filtered, len(positives_filtered), len(positives_sorted))"
   ]
  },
  {
   "cell_type": "markdown",
   "metadata": {},
   "source": [
    "#### Logic for Syntax Splitting"
   ]
  },
  {
   "cell_type": "code",
   "execution_count": 15,
   "metadata": {},
   "outputs": [],
   "source": [
    "SPLIT_LABELS = [\n",
    "    'CC',\n",
    "    'P',\n",
    "    'MARK'\n",
    "]\n",
    "\n",
    "NO_WHITESPACE_LABELS = [\n",
    "    'P',\n",
    "    'NEG'\n",
    "]\n",
    "\n",
    "def join_tokens(tokens, _from, _to): \n",
    "    sentence = ''\n",
    "#     print()\n",
    "    for i in range(_from, _to):\n",
    "        t = tokens[i]\n",
    "#         print(t['label'], t['text'])\n",
    "        if t['label'] in NO_WHITESPACE_LABELS:\n",
    "            sentence = sentence[:-1]\n",
    "        sentence = sentence + t['text'] + ' '\n",
    "    return sentence\n",
    "    \n",
    "def find_splits(sentence, tokens, max_characters):\n",
    "    split_index = find_split_index(sentence, tokens, max_characters)\n",
    "    if split_index == len(tokens):\n",
    "        return [sentence]\n",
    "    \n",
    "    return [join_tokens(tokens, 0, split_index), join_tokens(tokens, split_index, len(tokens))]\n",
    "    \n",
    "def find_split_index(sentence, tokens, max_characters=125):\n",
    "    character_count = len(sentence)\n",
    "    split_index = len(tokens)\n",
    "    \n",
    "    for t in reversed(tokens):\n",
    "        character_count -= len(t['text'])\n",
    "     \n",
    "        if t['label'] in SPLIT_LABELS:\n",
    "            if character_count <= max_characters:\n",
    "                return split_index\n",
    "            \n",
    "        split_index = split_index - 1\n",
    "            \n",
    "    return len(tokens)\n",
    "\n",
    "# def find_split_position(sentence, tokens, max_characters=125):\n",
    "#     character_count = len(sentence)\n",
    "#     force_split_position = max_characters\n",
    "#     for t in reversed(tokens):\n",
    "#         character_count -= len(t['text'])\n",
    "#         if character_count + len(t['text']) > max_characters:\n",
    "#             force_split_position = character_count\n",
    "        \n",
    "#         if t['label'] in SPLIT_LABELS:\n",
    "#             print(t['label'], character_count)\n",
    "#             if character_count <= max_characters:\n",
    "#                 print(t['label'])\n",
    "#                 return character_count\n",
    "            \n",
    "#     return force_split_position\n",
    "\n",
    "def splitSentence(syntaxes, sentence, index, max_characters=125):\n",
    "    '''Split a sentence into two parts, when it is longer then max_characters.\n",
    "    We try to split at meaningful points, e.g. connector words like and'''\n",
    "    if len(sentence) > max_characters:\n",
    "        tokens = [{\n",
    "            'label': t['dependencyEdge']['label'],\n",
    "            'text': t['text']['content']\n",
    "            } for t in syntaxes[index][1]['tokens']]\n",
    "#         split_position = find_position(sentence, tokens, max_characters)\n",
    "#         return [sentence[:split_position], sentence[split_position:]]\n",
    "        return find_splits(sentence, tokens, max_characters)\n",
    "    return [sentence]"
   ]
  },
  {
   "cell_type": "code",
   "execution_count": 23,
   "metadata": {
    "collapsed": false
   },
   "outputs": [
    {
     "name": "stdout",
     "output_type": "stream",
     "text": [
      "['Some of the gizmos like the flying cars and the Vouight-Kampff machine (which seemed very steampunk), were quite cool.', 'The visual effects were fantastic, however, and the musical score and overall mood was quite interesting.']\n",
      "118\n",
      "105\n",
      "\n",
      "['Certainly, the style of the film made up for many of its pedantic plot holes.', \"I didn't understand why a unicorn was in the movie.\"]\n",
      "77\n",
      "51\n",
      "\n",
      "[\"I really wanted to love 'Bladerunner' but ultimately I couldn't get myself to appreciate it fully.\"]\n",
      "98\n"
     ]
    },
    {
     "data": {
      "text/plain": [
       "[None]"
      ]
     },
     "execution_count": 23,
     "metadata": {},
     "output_type": "execute_result"
    }
   ],
   "source": [
    "syntax_results = load_dump('tmp/google-syntax-results')\n",
    "\n",
    "def getSentences(score_tuples, sentences):\n",
    "    '''Returns the original sentences for a score_tuple list'''\n",
    "    return [(t[0], sentences[t[0]][0]) for t in score_tuples]\n",
    "\n",
    "def gatherSentences(sentences_list, \n",
    "                    max_count=2,\n",
    "                    max_characters=250,\n",
    "                    max_split_characters=125,\n",
    "                    skip_indices=[]):\n",
    "    '''Builds a list of sentences greedily, so they are not longer \n",
    "    than max_characters.'''\n",
    "    sentences = []\n",
    "    indices = []\n",
    "    for (index, s) in sentences_list:\n",
    "        if index in skip_indices:\n",
    "            continue\n",
    "        if len(sentences) >= max_count:\n",
    "            break\n",
    "        if len(s) < max_characters:\n",
    "            splits = splitSentence(syntax_results, s, index, max_split_characters)\n",
    "            if len(sentences) + len(splits) <= max_count:\n",
    "                indices.append(index)\n",
    "                sentences += splits\n",
    "            \n",
    "    return (sentences, indices)\n",
    "\n",
    "(pos, _) = gatherSentences(getSentences(positives_filtered, results))\n",
    "(neg, neg_indices) = gatherSentences(getSentences(negatives_filtered, results))\n",
    "\n",
    "summary_syntaxes = list(zip(summary_sentences, [gnlp.google_syntax_analysis(sentence) for sentence in summary_sentences]))\n",
    "summary = splitSentence(summary_syntaxes, summary_sentences[0], 0, 125)\n",
    "\n",
    "max_count = 6 - len(pos) - len(neg) - len(summary)\n",
    "remaining_neg = []\n",
    "if max_count > 0:\n",
    "    (remaining_neg, _) = gatherSentences(getSentences(negatives_filtered, results), max_count=max_count, skip_indices=neg_indices)\n",
    "    \n",
    "\n",
    "print(pos)\n",
    "[print(len(s)) for s in pos]\n",
    "print()\n",
    "print(neg)\n",
    "[print(len(s)) for s in neg]\n",
    "print()\n",
    "print(summary)\n",
    "[print(len(s)) for s in summary]"
   ]
  },
  {
   "cell_type": "markdown",
   "metadata": {},
   "source": [
    "# Final Summary"
   ]
  },
  {
   "cell_type": "code",
   "execution_count": 24,
   "metadata": {},
   "outputs": [
    {
     "name": "stdout",
     "output_type": "stream",
     "text": [
      "Certainly, the style of the film made up for many of its pedantic plot holes.\n",
      "I didn't understand why a unicorn was in the movie.\n",
      "I really wanted to love 'Bladerunner' but ultimately I couldn't get myself to appreciate it fully.\n",
      "Some of the gizmos like the flying cars and the Vouight-Kampff machine (which seemed very steampunk), were quite cool.\n",
      "The visual effects were fantastic, however, and the musical score and overall mood was quite interesting.\n"
     ]
    }
   ],
   "source": [
    "# build summary from analized sentences...\n",
    "final_summary = neg + summary + remaining_neg + pos\n",
    "print('\\n'.join(final_summary))"
   ]
  },
  {
   "cell_type": "code",
   "execution_count": null,
   "metadata": {},
   "outputs": [],
   "source": []
  }
 ],
 "metadata": {
  "celltoolbar": "Raw Cell Format",
  "kernelspec": {
   "display_name": "Python 3",
   "language": "python",
   "name": "python3"
  },
  "language_info": {
   "codemirror_mode": {
    "name": "ipython",
    "version": 3
   },
   "file_extension": ".py",
   "mimetype": "text/x-python",
   "name": "python",
   "nbconvert_exporter": "python",
   "pygments_lexer": "ipython3",
   "version": "3.5.2"
  }
 },
 "nbformat": 4,
 "nbformat_minor": 1
}
