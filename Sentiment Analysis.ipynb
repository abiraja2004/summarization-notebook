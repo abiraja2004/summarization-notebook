{
 "cells": [
  {
   "cell_type": "markdown",
   "metadata": {},
   "source": [
    "# Google Api Test"
   ]
  },
  {
   "cell_type": "code",
   "execution_count": 45,
   "metadata": {
    "collapsed": true
   },
   "outputs": [],
   "source": [
    "from lib.google_sentiment_analysis import google_sentiment_analysis\n",
    "from lib.tokenize_to_sentences import tokenize_to_sentences"
   ]
  },
  {
   "cell_type": "code",
   "execution_count": 46,
   "metadata": {
    "collapsed": true
   },
   "outputs": [],
   "source": [
    "ANALYSIS_TEXT = '''I really wanted to love 'Bladerunner' but ultimately I couldn't get\n",
    "myself to appreciate it fully. However, you may like it if you're into\n",
    "science fiction, especially if you're interested in the philosophical\n",
    "exploration of what it means to be human or machine. Some of the gizmos\n",
    "like the flying cars and the Vouight-Kampff machine (which seemed very\n",
    "steampunk), were quite cool.\n",
    "\n",
    "I did find the plot pretty slow and but the dialogue and action sequences\n",
    "were good. Unlike most science fiction films, this one was mostly quiet, and\n",
    "not all that much happened, except during the last 15 minutes. I didn't\n",
    "understand why a unicorn was in the movie. The visual effects were fantastic,\n",
    "however, and the musical score and overall mood was quite interesting.\n",
    "A futurist Los Angeles that was both highly polished and also falling apart\n",
    "reminded me of 'Outland.' Certainly, the style of the film made up for\n",
    "many of its pedantic plot holes.\n",
    "\n",
    "If you want your sci-fi to be lasers and spaceships, 'Bladerunner' may\n",
    "disappoint you. But if you want it to make you think, this movie may\n",
    "be worth the money.'''"
   ]
  },
  {
   "cell_type": "code",
   "execution_count": 47,
   "metadata": {},
   "outputs": [],
   "source": [
    "def print_sentiment(text, polarity, magnitude):\n",
    "    print('Text: %s' % text)\n",
    "    print('Sentiment: polarity of %s with magnitude of %s' % (polarity, magnitude))"
   ]
  },
  {
   "cell_type": "code",
   "execution_count": 48,
   "metadata": {
    "collapsed": false
   },
   "outputs": [],
   "source": [
    "def main():\n",
    "    '''Run a sentiment analysis request on text in ANALYSIS_TEXT variable'''\n",
    "    polarity, magnitude = google_sentiment_analysis(ANALYSIS_TEXT)\n",
    "    print('Document Sentiment: polarity of %s with magnitude of %s' % (polarity, magnitude))\n",
    "    print()\n",
    "    \n",
    "    sentences = tokenize_to_sentences(ANALYSIS_TEXT)\n",
    "    sentiments = [google_sentiment_analysis(sentence) for sentence in sentences]\n",
    "    results = zip(sentences, sentiments)\n",
    "    \n",
    "    for r in results:\n",
    "        text, (polarity, magnitude) = r\n",
    "        print_sentiment(text, polarity, magnitude)\n",
    "        print('\\n\\n')\n",
    "    \n",
    "    return 0 \n"
   ]
  },
  {
   "cell_type": "code",
   "execution_count": 49,
   "metadata": {
    "collapsed": false
   },
   "outputs": [
    {
     "name": "stdout",
     "output_type": "stream",
     "text": [
      "Document Sentiment: polarity of -0.1 with magnitude of 6.7\n",
      "\n",
      "Text: I really wanted to love 'Bladerunner' but ultimately I couldn't get\n",
      "myself to appreciate it fully.\n",
      "Sentiment: polarity of -1 with magnitude of 0.8\n",
      "\n",
      "\n",
      "\n",
      "Text: However, you may like it if you're into\n",
      "science fiction, especially if you're interested in the philosophical\n",
      "exploration of what it means to be human or machine.\n",
      "Sentiment: polarity of -1 with magnitude of 0.4\n",
      "\n",
      "\n",
      "\n",
      "Text: Some of the gizmos\n",
      "like the flying cars and the Vouight-Kampff machine (which seemed very\n",
      "steampunk), were quite cool.\n",
      "Sentiment: polarity of 1 with magnitude of 0.8\n",
      "\n",
      "\n",
      "\n",
      "Text: I did find the plot pretty slow and but the dialogue and action sequences\n",
      "were good.\n",
      "Sentiment: polarity of 1 with magnitude of 0.1\n",
      "\n",
      "\n",
      "\n",
      "Text: Unlike most science fiction films, this one was mostly quiet, and\n",
      "not all that much happened, except during the last 15 minutes.\n",
      "Sentiment: polarity of -1 with magnitude of 0.8\n",
      "\n",
      "\n",
      "\n",
      "Text: I didn't\n",
      "understand why a unicorn was in the movie.\n",
      "Sentiment: polarity of -1 with magnitude of 0.8\n",
      "\n",
      "\n",
      "\n",
      "Text: The visual effects were fantastic,\n",
      "however, and the musical score and overall mood was quite interesting.\n",
      "Sentiment: polarity of 1 with magnitude of 0.8\n",
      "\n",
      "\n",
      "\n",
      "Text: A futurist Los Angeles that was both highly polished and also falling apart\n",
      "reminded me of 'Outland.'\n",
      "Sentiment: polarity of 1 with magnitude of 0.4\n",
      "\n",
      "\n",
      "\n",
      "Text: Certainly, the style of the film made up for\n",
      "many of its pedantic plot holes.\n",
      "Sentiment: polarity of -1 with magnitude of 0.9\n",
      "\n",
      "\n",
      "\n",
      "Text: If you want your sci-fi to be lasers and spaceships, 'Bladerunner' may\n",
      "disappoint you.\n",
      "Sentiment: polarity of 1 with magnitude of 0.4\n",
      "\n",
      "\n",
      "\n",
      "Text: But if you want it to make you think, this movie may\n",
      "be worth the money.\n",
      "Sentiment: polarity of -1 with magnitude of 0\n",
      "\n",
      "\n",
      "\n"
     ]
    }
   ],
   "source": [
    "# run \n",
    "if __name__ == '__main__':\n",
    "  main()"
   ]
  },
  {
   "cell_type": "code",
   "execution_count": null,
   "metadata": {},
   "outputs": [],
   "source": []
  }
 ],
 "metadata": {
  "celltoolbar": "Raw Cell Format",
  "kernelspec": {
   "display_name": "Python 3",
   "language": "python",
   "name": "python3"
  },
  "language_info": {
   "codemirror_mode": {
    "name": "ipython",
    "version": 3
   },
   "file_extension": ".py",
   "mimetype": "text/x-python",
   "name": "python",
   "nbconvert_exporter": "python",
   "pygments_lexer": "ipython3",
   "version": "3.5.2"
  }
 },
 "nbformat": 4,
 "nbformat_minor": 1
}
