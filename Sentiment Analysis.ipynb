{
 "cells": [
  {
   "cell_type": "markdown",
   "metadata": {},
   "source": [
    "# Google Api Test"
   ]
  },
  {
   "cell_type": "code",
   "execution_count": 39,
   "metadata": {
    "collapsed": false
   },
   "outputs": [],
   "source": [
    "import lib.google_nlp as gnlp\n",
    "from lib.tokenize_to_sentences import tokenize_to_sentences, trim_new_line\n",
    "from lib.aylien_nlp import summarize\n",
    "import matplotlib.pyplot as plt\n",
    "import pickle\n",
    "import numpy as np"
   ]
  },
  {
   "cell_type": "code",
   "execution_count": 40,
   "metadata": {
    "collapsed": true
   },
   "outputs": [
    {
     "name": "stdout",
     "output_type": "stream",
     "text": [
      "A \"wholly innocent\" 16-year-old boy was \"in the wrong place at the wrong time\" when he was shot dead on a canal towpath, a jury has heard.\n",
      "Lewis Dunne was on his way to a shop when he walked into the path of four men lying in wait with a loaded weapon and with \"murderous intent\", Liverpool Crown Court was told.\n",
      "The shooting in Vauxhall, Liverpool, was said to be the culmination of a series of incidents in the area on November 15 last year between two groups of males which involved the deliberate ramming of vehicles, chases and violence on the streets of the city.\n",
      "Opening the prosecution case, Ian Unsworth QC said: \"Put shortly, at the time of the fatal attack upon Lewis Dunne the defendants were intent on revenge.\n",
      "Lewis Dunne was 'in the wrong place at the wrong time' \"They had obtained a deadly loaded firearm and acting as a group they sought revenge upon those they opposed and who they had had trouble with earlier that day.\n",
      "\"Lewis Dunne was not involved in any of those previous incidents.\n",
      "He was simply on his way to the shop at the time that he lost his life.\n",
      "\"Whether he looked like one of the opposing group or whether they simply believed he was one of the opposing group, they used the gun to shoot him dead as he unwittingly walked into their path.\"\n",
      "The prosecutor added: \"Lewis Dunne had no axe to grind with these men.\n",
      "He had done nothing wrong.\"\n",
      "Three of the men who took part in the \"cowardly attack\" alongside the Leeds and Liverpool Canal were in the dock, Mr Unsworth said, but police had not yet been able to identify who they say the fourth man was.\n",
      "Jake Culshaw, 25, of no fixed address, and brothers Paul Martin, 25, and John Martin, 20, both of Ince Avenue, Anfield, deny murder.\n",
      "The prosecutor told jurors at Liverpol Crown Court: \"There is no direct evidence to to say which of those four men pulled the trigger and shot Lewis Dunne.\n",
      "The simple fact is this - he was shot in the back by one of a group of four males who had walked in darkness along that canal towpath armed with a loaded lethal weapon.\n",
      "\"That we cannot say which person actually shot him does not matter.\n",
      "\"In short, we suggest on a proper analysis of the evidence ... each of the three defendants bears the responsibility for the death of Lewis Dunne.\"\n"
     ]
    }
   ],
   "source": [
    "ANALYSIS_TITLE = \"\"\"'Innocent' teenager shot dead on towpath was 'in the wrong place at the wrong time'\"\"\"\n",
    "\n",
    "ANALYSIS_TEXT = '''A \"wholly innocent\" 16-year-old boy was \"in the wrong place at the wrong time\" when he was shot dead on a canal towpath, a jury has heard.\n",
    "\n",
    "Lewis Dunne was on his way to a shop when he walked into the path of four men lying in wait with a loaded weapon and with \"murderous intent\", Liverpool Crown Court was told.\n",
    "\n",
    "The shooting in Vauxhall, Liverpool, was said to be the culmination of a series of incidents in the area on November 15 last year between two groups of males which involved the deliberate ramming of vehicles, chases and violence on the streets of the city.\n",
    "\n",
    "Opening the prosecution case, Ian Unsworth QC said: \"Put shortly, at the time of the fatal attack upon Lewis Dunne the defendants were intent on revenge.\n",
    "\n",
    "Lewis Dunne was 'in the wrong place at the wrong time'\n",
    "\"They had obtained a deadly loaded firearm and acting as a group they sought revenge upon those they opposed and who they had had trouble with earlier that day.\n",
    "\n",
    "\"Lewis Dunne was not involved in any of those previous incidents. He was simply on his way to the shop at the time that he lost his life.\n",
    "\n",
    "\"Whether he looked like one of the opposing group or whether they simply believed he was one of the opposing group, they used the gun to shoot him dead as he unwittingly walked into their path.\"\n",
    "\n",
    "The prosecutor added: \"Lewis Dunne had no axe to grind with these men. He had done nothing wrong.\"\n",
    "\n",
    "Three of the men who took part in the \"cowardly attack\" alongside the Leeds and Liverpool Canal were in the dock, Mr Unsworth said, but police had not yet been able to identify who they say the fourth man was.\n",
    "\n",
    "Jake Culshaw, 25, of no fixed address, and brothers Paul Martin, 25, and John Martin, 20, both of Ince Avenue, Anfield, deny murder.\n",
    "\n",
    "The prosecutor told jurors at Liverpol Crown Court: \"There is no direct evidence to to say which of those four men pulled the trigger and shot Lewis Dunne.\n",
    "\n",
    "The simple fact is this - he was shot in the back by one of a group of four males who had walked in darkness along that canal towpath armed with a loaded lethal weapon.\n",
    "\n",
    "\"That we cannot say which person actually shot him does not matter.\n",
    "\n",
    "\"In short, we suggest on a proper analysis of the evidence ... each of the three defendants bears the responsibility for the death of Lewis Dunne.\"'''\n",
    "\n",
    "sentences = tokenize_to_sentences(ANALYSIS_TEXT)\n",
    "print('\\n'.join(sentences))"
   ]
  },
  {
   "cell_type": "code",
   "execution_count": 41,
   "metadata": {
    "collapsed": true
   },
   "outputs": [],
   "source": [
    "# helper functions\n",
    "\n",
    "def print_sentiment(text, polarity, magnitude):\n",
    "    print('Text: %s' % text)\n",
    "    print('Sentiment: polarity of %s with magnitude of %s' % (polarity, magnitude))\n",
    "    \n",
    "def load_dump(path):\n",
    "    return pickle.load(open(path, 'rb'))"
   ]
  },
  {
   "cell_type": "markdown",
   "metadata": {},
   "source": [
    "#### Analyze and print sentiment for the document:"
   ]
  },
  {
   "cell_type": "code",
   "execution_count": 42,
   "metadata": {
    "collapsed": false
   },
   "outputs": [
    {
     "name": "stdout",
     "output_type": "stream",
     "text": [
      "Document Sentiment: polarity of -0.9 with magnitude of 8.3\n",
      "\n"
     ]
    }
   ],
   "source": [
    "# Run a sentiment analysis request on text in ANALYSIS_TEXT variable\n",
    "polarity, magnitude = gnlp.google_sentiment_analysis(ANALYSIS_TEXT)\n",
    "print('Document Sentiment: polarity of %s with magnitude of %s' % (polarity, magnitude))\n",
    "print()"
   ]
  },
  {
   "cell_type": "markdown",
   "metadata": {},
   "source": [
    "#### Analyze sentiment for each sentence and store a dump:"
   ]
  },
  {
   "cell_type": "code",
   "execution_count": 43,
   "metadata": {
    "collapsed": false
   },
   "outputs": [
    {
     "name": "stdout",
     "output_type": "stream",
     "text": [
      "Stored 16 results\n"
     ]
    }
   ],
   "source": [
    "# analyze using Google API\n",
    "sentiments = [gnlp.google_sentiment_analysis(sentence) for sentence in sentences]\n",
    "results = list(zip(sentences, sentiments))\n",
    "\n",
    "# store to tmp file\n",
    "pickle.dump(results, open('tmp/google-sentiment-results', 'wb'))\n",
    "\n",
    "# print success\n",
    "print('Stored %d results' % len(list(results)))"
   ]
  },
  {
   "cell_type": "markdown",
   "metadata": {},
   "source": [
    "#### Analyze syntax for each sentence and store a dump:"
   ]
  },
  {
   "cell_type": "code",
   "execution_count": 44,
   "metadata": {
    "collapsed": false
   },
   "outputs": [
    {
     "name": "stdout",
     "output_type": "stream",
     "text": [
      "Stored 16 results\n"
     ]
    }
   ],
   "source": [
    "# analyse using Google API\n",
    "syntax = [gnlp.google_syntax_analysis(sentence) for sentence in sentences]\n",
    "syntax_results = list(zip(sentences, syntax))\n",
    "\n",
    "# store to tmp file\n",
    "pickle.dump(syntax_results, open('tmp/google-syntax-results', 'wb'))\n",
    "\n",
    "# print success\n",
    "print('Stored %d results' % len(syntax_results))\n"
   ]
  },
  {
   "cell_type": "markdown",
   "metadata": {},
   "source": [
    "#### Print sentiment for each sentence:"
   ]
  },
  {
   "cell_type": "code",
   "execution_count": 45,
   "metadata": {
    "collapsed": false
   },
   "outputs": [
    {
     "name": "stdout",
     "output_type": "stream",
     "text": [
      "Have found 16 results\n",
      "\n",
      "\n",
      "Text: A \"wholly innocent\" 16-year-old boy was \"in the wrong place at the wrong time\" when he was shot dead on a canal towpath, a jury has heard.\n",
      "Sentiment: polarity of -1 with magnitude of 0.8\n",
      "\n",
      "\n",
      "\n",
      "Text: Lewis Dunne was on his way to a shop when he walked into the path of four men lying in wait with a loaded weapon and with \"murderous intent\", Liverpool Crown Court was told.\n",
      "Sentiment: polarity of -1 with magnitude of 0.8\n",
      "\n",
      "\n",
      "\n",
      "Text: The shooting in Vauxhall, Liverpool, was said to be the culmination of a series of incidents in the area on November 15 last year between two groups of males which involved the deliberate ramming of vehicles, chases and violence on the streets of the city.\n",
      "Sentiment: polarity of 1 with magnitude of 0\n",
      "\n",
      "\n",
      "\n",
      "Text: Opening the prosecution case, Ian Unsworth QC said: \"Put shortly, at the time of the fatal attack upon Lewis Dunne the defendants were intent on revenge.\n",
      "Sentiment: polarity of -1 with magnitude of 0.8\n",
      "\n",
      "\n",
      "\n",
      "Text: Lewis Dunne was 'in the wrong place at the wrong time' \"They had obtained a deadly loaded firearm and acting as a group they sought revenge upon those they opposed and who they had had trouble with earlier that day.\n",
      "Sentiment: polarity of -1 with magnitude of 0.6\n",
      "\n",
      "\n",
      "\n",
      "Text: \"Lewis Dunne was not involved in any of those previous incidents.\n",
      "Sentiment: polarity of -1 with magnitude of 0.4\n",
      "\n",
      "\n",
      "\n",
      "Text: He was simply on his way to the shop at the time that he lost his life.\n",
      "Sentiment: polarity of 1 with magnitude of 0.1\n",
      "\n",
      "\n",
      "\n",
      "Text: \"Whether he looked like one of the opposing group or whether they simply believed he was one of the opposing group, they used the gun to shoot him dead as he unwittingly walked into their path.\"\n",
      "Sentiment: polarity of -1 with magnitude of 0.5\n",
      "\n",
      "\n",
      "\n",
      "Text: The prosecutor added: \"Lewis Dunne had no axe to grind with these men.\n",
      "Sentiment: polarity of -1 with magnitude of 0.4\n",
      "\n",
      "\n",
      "\n",
      "Text: He had done nothing wrong.\"\n",
      "Sentiment: polarity of -1 with magnitude of 0.2\n",
      "\n",
      "\n",
      "\n",
      "Text: Three of the men who took part in the \"cowardly attack\" alongside the Leeds and Liverpool Canal were in the dock, Mr Unsworth said, but police had not yet been able to identify who they say the fourth man was.\n",
      "Sentiment: polarity of -1 with magnitude of 0.3\n",
      "\n",
      "\n",
      "\n",
      "Text: Jake Culshaw, 25, of no fixed address, and brothers Paul Martin, 25, and John Martin, 20, both of Ince Avenue, Anfield, deny murder.\n",
      "Sentiment: polarity of -1 with magnitude of 0.9\n",
      "\n",
      "\n",
      "\n",
      "Text: The prosecutor told jurors at Liverpol Crown Court: \"There is no direct evidence to to say which of those four men pulled the trigger and shot Lewis Dunne.\n",
      "Sentiment: polarity of -1 with magnitude of 0.9\n",
      "\n",
      "\n",
      "\n",
      "Text: The simple fact is this - he was shot in the back by one of a group of four males who had walked in darkness along that canal towpath armed with a loaded lethal weapon.\n",
      "Sentiment: polarity of 1 with magnitude of 0.1\n",
      "\n",
      "\n",
      "\n",
      "Text: \"That we cannot say which person actually shot him does not matter.\n",
      "Sentiment: polarity of -1 with magnitude of 0.5\n",
      "\n",
      "\n",
      "\n",
      "Text: \"In short, we suggest on a proper analysis of the evidence ... each of the three defendants bears the responsibility for the death of Lewis Dunne.\"\n",
      "Sentiment: polarity of -1 with magnitude of 0.2\n",
      "\n",
      "\n",
      "\n"
     ]
    }
   ],
   "source": [
    "results = load_dump('tmp/google-sentiment-results')\n",
    "print('Have found %d results\\n\\n' % len(list(results)))\n",
    "\n",
    "for r in results:\n",
    "    text, (polarity, magnitude) = r\n",
    "    print_sentiment(text, polarity, magnitude)\n",
    "    print('\\n\\n')"
   ]
  },
  {
   "cell_type": "markdown",
   "metadata": {},
   "source": [
    "#### Build histogram for sentiment distribution:"
   ]
  },
  {
   "cell_type": "code",
   "execution_count": 46,
   "metadata": {
    "collapsed": true
   },
   "outputs": [],
   "source": [
    "results = load_dump('tmp/google-sentiment-results')\n",
    "distribution = [ r[1][0] * r[1][1] for r in results ]"
   ]
  },
  {
   "cell_type": "code",
   "execution_count": 47,
   "metadata": {
    "collapsed": false
   },
   "outputs": [
    {
     "data": {
      "image/png": "[encoded data removed]",
      "text/plain": [
       "<matplotlib.figure.Figure at 0x10cf292e8>"
      ]
     },
     "metadata": {},
     "output_type": "display_data"
    }
   ],
   "source": [
    "# histogram showing magnitudes\n",
    "plt.hist(distribution, 20, facecolor='g')\n",
    "plt.xlabel('magnitude')\n",
    "plt.xticks(np.arange(-1, 1, 0.1))\n",
    "plt.ylabel('count')\n",
    "plt.ylim(0, len(results))\n",
    "plt.show()"
   ]
  },
  {
   "cell_type": "code",
   "execution_count": 48,
   "metadata": {
    "collapsed": false
   },
   "outputs": [
    {
     "data": {
      "image/png": "[encoded data removed]",
      "text/plain": [
       "<matplotlib.figure.Figure at 0x10cf29908>"
      ]
     },
     "metadata": {},
     "output_type": "display_data"
    }
   ],
   "source": [
    "# histogram showing polarity, magnitude in chronological order\n",
    "plt.plot(distribution)\n",
    "plt.xticks(np.arange(0, len(distribution), 1.0))\n",
    "plt.grid()\n",
    "plt.show()"
   ]
  },
  {
   "cell_type": "markdown",
   "metadata": {},
   "source": [
    "# Summary Building\n",
    "\n",
    "First we preprocess our text data by building rankings of sentences by sentiment and finding an adequate summary sentence. Then we apply rules for how we put the article together. See these documents:\n",
    "\n",
    "- https://docs.google.com/spreadsheets/d/1Q3RqbrvmC2LTuds31R6HSkHc2CpuxZgPJbR5vVsMHlM/edit#gid=0\n",
    "- https://docs.google.com/document/d/1xWHVi3AaCSE2GduW194sUCYU6peStF4vTctzCZcNYkU/edit\n",
    "\n",
    "#### Ranking of Sentences\n",
    "\n",
    "We build a ranking of each sentence by chronological order vs. mag*pol score"
   ]
  },
  {
   "cell_type": "code",
   "execution_count": 49,
   "metadata": {
    "collapsed": true
   },
   "outputs": [],
   "source": [
    "sentence_score_tuples = list(zip(range(len(distribution)), distribution))\n",
    "positives = [t for t in sentence_score_tuples if t[1] >= 0.5]\n",
    "negatives = [t for t in sentence_score_tuples if t[1] <= -0.5]\n",
    "\n",
    "# get key to sort by absolute score == magnitude\n",
    "def getKey(item):\n",
    "    return item[1]\n",
    "\n",
    "positives_sorted = sorted(positives, key=getKey)\n",
    "negatives_sorted = sorted(negatives, key=getKey)"
   ]
  },
  {
   "cell_type": "markdown",
   "metadata": {},
   "source": [
    "#### Extracting one summary sentence via aylien api"
   ]
  },
  {
   "cell_type": "code",
   "execution_count": 50,
   "metadata": {
    "collapsed": false
   },
   "outputs": [],
   "source": [
    "# configure summarization api\n",
    "options = {\n",
    "    'mode': 'short',\n",
    "    'title': ANALYSIS_TITLE,\n",
    "    'text': trim_new_line(ANALYSIS_TEXT),\n",
    "    'sentences_number': 1\n",
    "}\n",
    "\n",
    "# make api call and cache result\n",
    "summary_results = summarize(options)\n",
    "pickle.dump(summary_results, open('tmp/aylien-summary', 'wb'))"
   ]
  },
  {
   "cell_type": "code",
   "execution_count": 51,
   "metadata": {
    "collapsed": true
   },
   "outputs": [],
   "source": [
    "summary_results = load_dump('tmp/aylien-summary')\n",
    "summary_sentences = summary_results['sentences']"
   ]
  },
  {
   "cell_type": "markdown",
   "metadata": {},
   "source": [
    "#### Filter Summary sentences from ranked positives and negatives"
   ]
  },
  {
   "cell_type": "code",
   "execution_count": 52,
   "metadata": {
    "collapsed": false
   },
   "outputs": [
    {
     "name": "stdout",
     "output_type": "stream",
     "text": [
      "[(11, -0.9), (12, -0.9), (0, -0.8), (3, -0.8), (4, -0.6), (7, -0.5), (14, -0.5)] 7 8\n",
      "[] 0 0\n"
     ]
    }
   ],
   "source": [
    "positives_filtered = [p for p in positives_sorted if results[p[0]][0] not in summary_sentences]\n",
    "negatives_filtered = [p for p in negatives_sorted if results[p[0]][0] not in summary_sentences]\n",
    "\n",
    "# print filtered & unfiltered counts, so we see where a sentences was deleted\n",
    "print(negatives_filtered, len(negatives_filtered), len(negatives_sorted))\n",
    "print(positives_filtered, len(positives_filtered), len(positives_sorted))"
   ]
  },
  {
   "cell_type": "markdown",
   "metadata": {},
   "source": [
    "#### Logic for Syntax Splitting"
   ]
  },
  {
   "cell_type": "code",
   "execution_count": 53,
   "metadata": {},
   "outputs": [],
   "source": [
    "SPLIT_LABELS = [\n",
    "    'CC',\n",
    "    'P',\n",
    "    'MARK'\n",
    "]\n",
    "\n",
    "NO_WHITESPACE_LABELS = [\n",
    "    'P',\n",
    "    'NEG'\n",
    "]\n",
    "\n",
    "def join_tokens(tokens, _from, _to): \n",
    "    sentence = ''\n",
    "#     print()\n",
    "    for i in range(_from, _to):\n",
    "        t = tokens[i]\n",
    "#         print(t['label'], t['text'])\n",
    "        if t['label'] in NO_WHITESPACE_LABELS:\n",
    "            sentence = sentence[:-1]\n",
    "        sentence = sentence + t['text'] + ' '\n",
    "    return sentence\n",
    "    \n",
    "def find_splits(sentence, tokens, max_characters):\n",
    "    split_index = find_split_index(sentence, tokens, max_characters)\n",
    "    if split_index == len(tokens):\n",
    "        return [sentence]\n",
    "    \n",
    "    return [join_tokens(tokens, 0, split_index), join_tokens(tokens, split_index, len(tokens))]\n",
    "    \n",
    "def find_split_index(sentence, tokens, max_characters=125):\n",
    "    character_count = len(sentence)\n",
    "    split_index = len(tokens)\n",
    "    \n",
    "    for t in reversed(tokens):\n",
    "        character_count -= len(t['text'])\n",
    "     \n",
    "        if t['label'] in SPLIT_LABELS:\n",
    "            if character_count <= max_characters:\n",
    "                return split_index\n",
    "            \n",
    "        split_index = split_index - 1\n",
    "            \n",
    "    return len(tokens)\n",
    "\n",
    "# def find_split_position(sentence, tokens, max_characters=125):\n",
    "#     character_count = len(sentence)\n",
    "#     force_split_position = max_characters\n",
    "#     for t in reversed(tokens):\n",
    "#         character_count -= len(t['text'])\n",
    "#         if character_count + len(t['text']) > max_characters:\n",
    "#             force_split_position = character_count\n",
    "        \n",
    "#         if t['label'] in SPLIT_LABELS:\n",
    "#             print(t['label'], character_count)\n",
    "#             if character_count <= max_characters:\n",
    "#                 print(t['label'])\n",
    "#                 return character_count\n",
    "            \n",
    "#     return force_split_position\n",
    "\n",
    "def splitSentence(syntaxes, sentence, index, max_characters=125):\n",
    "    '''Split a sentence into two parts, when it is longer then max_characters.\n",
    "    We try to split at meaningful points, e.g. connector words like and'''\n",
    "    if len(sentence) > max_characters:\n",
    "        tokens = [{\n",
    "            'label': t['dependencyEdge']['label'],\n",
    "            'text': t['text']['content']\n",
    "            } for t in syntaxes[index][1]['tokens']]\n",
    "#         split_position = find_position(sentence, tokens, max_characters)\n",
    "#         return [sentence[:split_position], sentence[split_position:]]\n",
    "        return find_splits(sentence, tokens, max_characters)\n",
    "    return [sentence]"
   ]
  },
  {
   "cell_type": "code",
   "execution_count": 57,
   "metadata": {
    "collapsed": false
   },
   "outputs": [
    {
     "name": "stdout",
     "output_type": "stream",
     "text": [
      "neg\n",
      "['Jake Culshaw, 25, of no fixed address, and brothers Paul Martin, 25, and John Martin, 20, both of Ince Avenue, Anfield, ', 'deny murder. ']\n",
      "120\n",
      "13\n",
      "\n",
      "sum\n",
      "['Lewis Dunne was on his way to a shop when he walked into the path of four men lying in wait with a loaded weapon and ', 'with\" murderous intent\", Liverpool Crown Court was told. ']\n",
      "117\n",
      "57\n",
      "\n",
      "rneg\n",
      "['The prosecutor told jurors at Liverpol Crown Court:\" ', 'There is no direct evidence to to say which of those four men pulled the trigger and shot Lewis Dunne. ']\n",
      "53\n",
      "103\n",
      "\n",
      "pos\n",
      "[]\n"
     ]
    },
    {
     "data": {
      "text/plain": [
       "[]"
      ]
     },
     "execution_count": 57,
     "metadata": {},
     "output_type": "execute_result"
    }
   ],
   "source": [
    "syntax_results = load_dump('tmp/google-syntax-results')\n",
    "\n",
    "def getSentences(score_tuples, sentences):\n",
    "    '''Returns the original sentences for a score_tuple list'''\n",
    "    return [(t[0], sentences[t[0]][0]) for t in score_tuples]\n",
    "\n",
    "def gatherSentences(sentences_list, \n",
    "                    max_count=2,\n",
    "                    max_characters=250,\n",
    "                    max_split_characters=125,\n",
    "                    skip_indices=[]):\n",
    "    '''Builds a list of sentences greedily, so they are not longer \n",
    "    than max_characters.'''\n",
    "    sentences = []\n",
    "    indices = []\n",
    "    for (index, s) in sentences_list:\n",
    "        if index in skip_indices:\n",
    "            continue\n",
    "        if len(sentences) >= max_count:\n",
    "            break\n",
    "        if len(s) < max_characters:\n",
    "            splits = splitSentence(syntax_results, s, index, max_split_characters)\n",
    "            if len(sentences) + len(splits) <= max_count:\n",
    "                indices.append(index)\n",
    "                sentences += splits\n",
    "            \n",
    "    return (sentences, indices)\n",
    "\n",
    "(pos, _) = gatherSentences(getSentences(positives_filtered, results))\n",
    "(neg, neg_indices) = gatherSentences(getSentences(negatives_filtered, results))\n",
    "\n",
    "summary_syntaxes = list(zip(summary_sentences, [gnlp.google_syntax_analysis(sentence) for sentence in summary_sentences]))\n",
    "summary = splitSentence(summary_syntaxes, summary_sentences[0], 0, 125)\n",
    "\n",
    "max_count = 6 - len(pos) - len(neg) - len(summary)\n",
    "remaining_neg = []\n",
    "if max_count > 0:\n",
    "    (remaining_neg, _) = gatherSentences(getSentences(negatives_filtered, results), max_count=max_count, skip_indices=neg_indices)\n",
    "    \n",
    "\n",
    "\n",
    "\n",
    "print('neg')\n",
    "print(neg)\n",
    "[print(len(s)) for s in neg]\n",
    "print()\n",
    "print('sum')\n",
    "print(summary)\n",
    "[print(len(s)) for s in summary]\n",
    "print()\n",
    "print('rneg')\n",
    "print(remaining_neg)\n",
    "[print(len(s)) for s in remaining_neg]\n",
    "print()\n",
    "print('pos')\n",
    "print(pos)\n",
    "[print(len(s)) for s in pos]"
   ]
  },
  {
   "cell_type": "markdown",
   "metadata": {},
   "source": [
    "# Final Summary"
   ]
  },
  {
   "cell_type": "code",
   "execution_count": 55,
   "metadata": {},
   "outputs": [
    {
     "name": "stdout",
     "output_type": "stream",
     "text": [
      "Jake Culshaw, 25, of no fixed address, and brothers Paul Martin, 25, and John Martin, 20, both of Ince Avenue, Anfield, \n",
      "deny murder. \n",
      "Lewis Dunne was on his way to a shop when he walked into the path of four men lying in wait with a loaded weapon and \n",
      "with\" murderous intent\", Liverpool Crown Court was told. \n",
      "The prosecutor told jurors at Liverpol Crown Court:\" \n",
      "There is no direct evidence to to say which of those four men pulled the trigger and shot Lewis Dunne. \n"
     ]
    }
   ],
   "source": [
    "# build summary from analized sentences...\n",
    "final_summary = neg + summary + remaining_neg + pos\n",
    "print('\\n'.join(final_summary))"
   ]
  },
  {
   "cell_type": "code",
   "execution_count": null,
   "metadata": {},
   "outputs": [],
   "source": []
  }
 ],
 "metadata": {
  "celltoolbar": "Raw Cell Format",
  "kernelspec": {
   "display_name": "Python 3",
   "language": "python",
   "name": "python3"
  },
  "language_info": {
   "codemirror_mode": {
    "name": "ipython",
    "version": 3
   },
   "file_extension": ".py",
   "mimetype": "text/x-python",
   "name": "python",
   "nbconvert_exporter": "python",
   "pygments_lexer": "ipython3",
   "version": "3.5.2"
  }
 },
 "nbformat": 4,
 "nbformat_minor": 1
}
